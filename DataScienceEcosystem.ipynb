{
 "cells": [
  {
   "cell_type": "markdown",
   "id": "ae8c6899-2356-4461-a4a1-864aba65bc5f",
   "metadata": {},
   "source": [
    "# Data Science Tools and Ecosystems"
   ]
  },
  {
   "cell_type": "markdown",
   "id": "407b79c2-4ac4-4b09-a69a-c7aa6fbab263",
   "metadata": {},
   "source": [
    "In this notebook, Data Science Tools and Ecosystem are summarized"
   ]
  },
  {
   "cell_type": "markdown",
   "id": "9eecd5ed-0287-4131-ab26-14ca55f6fe9a",
   "metadata": {},
   "source": [
    "__Objectives:__\n",
    "- List popular languages used for Data Science\n",
    "- List commonly used libraries used for Data Science\n",
    "- List commonly used open source tools used for Data Science"
   ]
  },
  {
   "cell_type": "markdown",
   "id": "e4394144-5048-4c80-91d1-d076c2ec6027",
   "metadata": {},
   "source": [
    "Some of the popular languages that Data Scientists use are:\n",
    "1. Python\n",
    "2. R\n",
    "3. Julia"
   ]
  },
  {
   "cell_type": "markdown",
   "id": "51f89874-7036-490a-98f1-98d6fbfdbe4d",
   "metadata": {},
   "source": [
    "Some of the commonly used libraries used by Data Scientists include:\n",
    "1. Scikit-learn\n",
    "2. Keras\n",
    "3. Pandas"
   ]
  },
  {
   "cell_type": "markdown",
   "id": "d5dc24d2-cbc2-4a92-bc18-359488e58ac7",
   "metadata": {},
   "source": [
    "| Data Science Tools |\n",
    "| --- |\n",
    "| Hadoop |\n",
    "| Apache Spark |\n",
    "| TensorFLow |"
   ]
  },
  {
   "cell_type": "markdown",
   "id": "44a3d49e-83fd-4426-bd55-ab1166014568",
   "metadata": {},
   "source": [
    "### Below are a few examples of evaluating arithmetic expressions in Python"
   ]
  },
  {
   "cell_type": "code",
   "execution_count": 1,
   "id": "e98ca5b2-3640-49ad-85af-472f5ec076d1",
   "metadata": {
    "tags": []
   },
   "outputs": [
    {
     "data": {
      "text/plain": [
       "17"
      ]
     },
     "execution_count": 1,
     "metadata": {},
     "output_type": "execute_result"
    }
   ],
   "source": [
    "#This a simple arithmetic expression to multiply then add intergers.\n",
    "(3*4)+5"
   ]
  },
  {
   "cell_type": "code",
   "execution_count": 2,
   "id": "3970c1a0-f15b-402e-a524-ded961d3c7c9",
   "metadata": {
    "tags": []
   },
   "outputs": [
    {
     "data": {
      "text/plain": [
       "3.3333333333333335"
      ]
     },
     "execution_count": 2,
     "metadata": {},
     "output_type": "execute_result"
    }
   ],
   "source": [
    "#This will convert 200 minutes to hours by dividing by 60\n",
    "200/60"
   ]
  },
  {
   "cell_type": "markdown",
   "id": "08908385-76f8-4feb-9ed3-980200345f52",
   "metadata": {},
   "source": [
    "## Author\n",
    "Pierce Cappelli"
   ]
  },
  {
   "cell_type": "code",
   "execution_count": null,
   "id": "26766d98-1e01-4335-bd2c-483a8192cf1f",
   "metadata": {},
   "outputs": [],
   "source": []
  }
 ],
 "metadata": {
  "kernelspec": {
   "display_name": "Python",
   "language": "python",
   "name": "conda-env-python-py"
  },
  "language_info": {
   "codemirror_mode": {
    "name": "ipython",
    "version": 3
   },
   "file_extension": ".py",
   "mimetype": "text/x-python",
   "name": "python",
   "nbconvert_exporter": "python",
   "pygments_lexer": "ipython3",
   "version": "3.7.12"
  }
 },
 "nbformat": 4,
 "nbformat_minor": 5
}
